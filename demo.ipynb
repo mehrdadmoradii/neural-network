{
 "cells": [
  {
   "cell_type": "code",
   "execution_count": 49,
   "id": "initial_id",
   "metadata": {
    "collapsed": true,
    "ExecuteTime": {
     "end_time": "2023-12-04T17:15:22.510918Z",
     "start_time": "2023-12-04T17:15:22.508384Z"
    }
   },
   "outputs": [],
   "source": [
    "import pandas as pd\n",
    "\n",
    "from matplotlib import pyplot as plt\n",
    "\n",
    "from sklearn.datasets import load_iris"
   ]
  },
  {
   "cell_type": "code",
   "execution_count": 50,
   "outputs": [],
   "source": [
    "data = load_iris()\n",
    "\n",
    "X, y = data.data, data.target"
   ],
   "metadata": {
    "collapsed": false,
    "ExecuteTime": {
     "end_time": "2023-12-04T17:15:22.770472Z",
     "start_time": "2023-12-04T17:15:22.767353Z"
    }
   },
   "id": "839171829f376684"
  },
  {
   "cell_type": "code",
   "execution_count": 51,
   "outputs": [
    {
     "data": {
      "text/plain": "       sepal length (cm)  sepal width (cm)  petal length (cm)  \\\ncount         150.000000        150.000000         150.000000   \nmean            5.843333          3.057333           3.758000   \nstd             0.828066          0.435866           1.765298   \nmin             4.300000          2.000000           1.000000   \n25%             5.100000          2.800000           1.600000   \n50%             5.800000          3.000000           4.350000   \n75%             6.400000          3.300000           5.100000   \nmax             7.900000          4.400000           6.900000   \n\n       petal width (cm)  \ncount        150.000000  \nmean           1.199333  \nstd            0.762238  \nmin            0.100000  \n25%            0.300000  \n50%            1.300000  \n75%            1.800000  \nmax            2.500000  ",
      "text/html": "<div>\n<style scoped>\n    .dataframe tbody tr th:only-of-type {\n        vertical-align: middle;\n    }\n\n    .dataframe tbody tr th {\n        vertical-align: top;\n    }\n\n    .dataframe thead th {\n        text-align: right;\n    }\n</style>\n<table border=\"1\" class=\"dataframe\">\n  <thead>\n    <tr style=\"text-align: right;\">\n      <th></th>\n      <th>sepal length (cm)</th>\n      <th>sepal width (cm)</th>\n      <th>petal length (cm)</th>\n      <th>petal width (cm)</th>\n    </tr>\n  </thead>\n  <tbody>\n    <tr>\n      <th>count</th>\n      <td>150.000000</td>\n      <td>150.000000</td>\n      <td>150.000000</td>\n      <td>150.000000</td>\n    </tr>\n    <tr>\n      <th>mean</th>\n      <td>5.843333</td>\n      <td>3.057333</td>\n      <td>3.758000</td>\n      <td>1.199333</td>\n    </tr>\n    <tr>\n      <th>std</th>\n      <td>0.828066</td>\n      <td>0.435866</td>\n      <td>1.765298</td>\n      <td>0.762238</td>\n    </tr>\n    <tr>\n      <th>min</th>\n      <td>4.300000</td>\n      <td>2.000000</td>\n      <td>1.000000</td>\n      <td>0.100000</td>\n    </tr>\n    <tr>\n      <th>25%</th>\n      <td>5.100000</td>\n      <td>2.800000</td>\n      <td>1.600000</td>\n      <td>0.300000</td>\n    </tr>\n    <tr>\n      <th>50%</th>\n      <td>5.800000</td>\n      <td>3.000000</td>\n      <td>4.350000</td>\n      <td>1.300000</td>\n    </tr>\n    <tr>\n      <th>75%</th>\n      <td>6.400000</td>\n      <td>3.300000</td>\n      <td>5.100000</td>\n      <td>1.800000</td>\n    </tr>\n    <tr>\n      <th>max</th>\n      <td>7.900000</td>\n      <td>4.400000</td>\n      <td>6.900000</td>\n      <td>2.500000</td>\n    </tr>\n  </tbody>\n</table>\n</div>"
     },
     "execution_count": 51,
     "metadata": {},
     "output_type": "execute_result"
    }
   ],
   "source": [
    "dataframe = pd.DataFrame(X, columns=data.feature_names)\n",
    "\n",
    "dataframe.describe()"
   ],
   "metadata": {
    "collapsed": false,
    "ExecuteTime": {
     "end_time": "2023-12-04T17:15:23.050256Z",
     "start_time": "2023-12-04T17:15:23.047010Z"
    }
   },
   "id": "5dfc0fb3fa8c7887"
  },
  {
   "cell_type": "code",
   "execution_count": 52,
   "outputs": [],
   "source": [
    "from sklearn.preprocessing import StandardScaler\n",
    "\n",
    "normalizer = StandardScaler().fit(X)\n",
    "\n",
    "X_normalized = normalizer.transform(X)"
   ],
   "metadata": {
    "collapsed": false,
    "ExecuteTime": {
     "end_time": "2023-12-04T17:15:23.755951Z",
     "start_time": "2023-12-04T17:15:23.752767Z"
    }
   },
   "id": "91e447cfe9d4ebe2"
  },
  {
   "cell_type": "code",
   "execution_count": 53,
   "outputs": [],
   "source": [
    "from sklearn.model_selection import train_test_split\n",
    "\n",
    "X_train, X_test, y_train, y_test = train_test_split(X_normalized, y, test_size=0.2, random_state=42)"
   ],
   "metadata": {
    "collapsed": false,
    "ExecuteTime": {
     "end_time": "2023-12-04T17:15:24.681536Z",
     "start_time": "2023-12-04T17:15:24.678928Z"
    }
   },
   "id": "7a697c889ac1f311"
  },
  {
   "cell_type": "code",
   "execution_count": 54,
   "outputs": [
    {
     "name": "stdout",
     "output_type": "stream",
     "text": [
      "(120, 4) (30, 4)\n"
     ]
    }
   ],
   "source": [
    "print(X_train.shape, X_test.shape)"
   ],
   "metadata": {
    "collapsed": false,
    "ExecuteTime": {
     "end_time": "2023-12-04T17:15:25.467666Z",
     "start_time": "2023-12-04T17:15:25.465333Z"
    }
   },
   "id": "7e6ee44145d11239"
  },
  {
   "cell_type": "code",
   "execution_count": 45,
   "outputs": [],
   "source": [
    "from src.models import Sequential\n",
    "from src.layers import Dense, ReLU\n",
    "from src.optimizers import SGD\n",
    "from src.losses import CrossEntropyLoss\n",
    "\n",
    "model = Sequential([\n",
    "    Dense(20, activation=ReLU()),\n",
    "    Dense(20, activation=ReLU()),\n",
    "    Dense(20, activation=ReLU()),\n",
    "    Dense(3)\n",
    "])\n",
    "\n",
    "model.compile(\n",
    "    loss=CrossEntropyLoss(),\n",
    "    optimizer=SGD(learning_rate=5e-2),\n",
    ")"
   ],
   "metadata": {
    "collapsed": false,
    "ExecuteTime": {
     "end_time": "2023-12-04T17:14:47.992547Z",
     "start_time": "2023-12-04T17:14:47.989214Z"
    }
   },
   "id": "2f079980bdb342da"
  },
  {
   "cell_type": "code",
   "execution_count": 46,
   "outputs": [
    {
     "name": "stdout",
     "output_type": "stream",
     "text": [
      "Epoch 1/100 - loss: 2.2007 - val_accuracy: 0.6000\n",
      "Epoch 2/100 - loss: 2.4106 - val_accuracy: 0.6000\n",
      "Epoch 3/100 - loss: 2.3361 - val_accuracy: 0.6000\n",
      "Epoch 4/100 - loss: 2.6509 - val_accuracy: 0.6000\n",
      "Epoch 5/100 - loss: 2.3421 - val_accuracy: 0.6000\n",
      "Epoch 6/100 - loss: 2.5338 - val_accuracy: 0.6000\n",
      "Epoch 7/100 - loss: 1.8720 - val_accuracy: 0.6000\n",
      "Epoch 8/100 - loss: 2.8300 - val_accuracy: 0.6000\n",
      "Epoch 9/100 - loss: 1.7221 - val_accuracy: 0.6000\n",
      "Epoch 10/100 - loss: 1.6912 - val_accuracy: 0.6000\n",
      "Epoch 11/100 - loss: 1.2941 - val_accuracy: 0.6000\n",
      "Epoch 12/100 - loss: 1.4829 - val_accuracy: 0.6000\n",
      "Epoch 13/100 - loss: 1.3326 - val_accuracy: 0.6000\n",
      "Epoch 14/100 - loss: 1.8453 - val_accuracy: 0.6000\n",
      "Epoch 15/100 - loss: 1.2443 - val_accuracy: 0.5667\n",
      "Epoch 16/100 - loss: 1.4698 - val_accuracy: 0.5667\n",
      "Epoch 17/100 - loss: 1.6354 - val_accuracy: 0.5667\n",
      "Epoch 18/100 - loss: 1.3037 - val_accuracy: 0.5667\n",
      "Epoch 19/100 - loss: 0.9367 - val_accuracy: 0.5667\n",
      "Epoch 20/100 - loss: 1.3629 - val_accuracy: 0.5667\n",
      "Epoch 21/100 - loss: 1.2551 - val_accuracy: 0.5667\n",
      "Epoch 22/100 - loss: 1.1261 - val_accuracy: 0.5667\n",
      "Epoch 23/100 - loss: 1.1145 - val_accuracy: 0.6000\n",
      "Epoch 24/100 - loss: 1.5202 - val_accuracy: 0.6000\n",
      "Epoch 25/100 - loss: 1.0001 - val_accuracy: 0.6000\n",
      "Epoch 26/100 - loss: 1.0104 - val_accuracy: 0.6000\n",
      "Epoch 27/100 - loss: 1.4745 - val_accuracy: 0.6000\n",
      "Epoch 28/100 - loss: 1.1182 - val_accuracy: 0.6000\n",
      "Epoch 29/100 - loss: 0.5855 - val_accuracy: 0.6000\n",
      "Epoch 30/100 - loss: 0.8500 - val_accuracy: 0.6000\n",
      "Epoch 31/100 - loss: 1.1645 - val_accuracy: 0.6000\n",
      "Epoch 32/100 - loss: 1.0896 - val_accuracy: 0.6000\n",
      "Epoch 33/100 - loss: 0.7418 - val_accuracy: 0.6333\n",
      "Epoch 34/100 - loss: 0.8767 - val_accuracy: 0.6667\n",
      "Epoch 35/100 - loss: 1.0977 - val_accuracy: 0.6667\n",
      "Epoch 36/100 - loss: 1.2710 - val_accuracy: 0.7000\n",
      "Epoch 37/100 - loss: 1.0897 - val_accuracy: 0.7000\n",
      "Epoch 38/100 - loss: 0.8739 - val_accuracy: 0.7333\n",
      "Epoch 39/100 - loss: 0.7318 - val_accuracy: 0.7333\n",
      "Epoch 40/100 - loss: 0.9580 - val_accuracy: 0.7667\n",
      "Epoch 41/100 - loss: 0.7597 - val_accuracy: 0.7667\n",
      "Epoch 42/100 - loss: 0.8366 - val_accuracy: 0.7667\n",
      "Epoch 43/100 - loss: 0.9970 - val_accuracy: 0.7667\n",
      "Epoch 44/100 - loss: 0.8277 - val_accuracy: 0.7667\n",
      "Epoch 45/100 - loss: 0.8171 - val_accuracy: 0.7667\n",
      "Epoch 46/100 - loss: 0.7908 - val_accuracy: 0.7667\n",
      "Epoch 47/100 - loss: 1.1235 - val_accuracy: 0.7667\n",
      "Epoch 48/100 - loss: 0.6357 - val_accuracy: 0.7667\n",
      "Epoch 49/100 - loss: 0.9595 - val_accuracy: 0.8000\n",
      "Epoch 50/100 - loss: 0.7891 - val_accuracy: 0.8333\n",
      "Epoch 51/100 - loss: 0.5968 - val_accuracy: 0.8333\n",
      "Epoch 52/100 - loss: 0.7493 - val_accuracy: 0.8333\n",
      "Epoch 53/100 - loss: 0.6519 - val_accuracy: 0.8333\n",
      "Epoch 54/100 - loss: 0.8032 - val_accuracy: 0.8333\n",
      "Epoch 55/100 - loss: 0.5480 - val_accuracy: 0.8333\n",
      "Epoch 56/100 - loss: 0.5350 - val_accuracy: 0.8333\n",
      "Epoch 57/100 - loss: 0.9370 - val_accuracy: 0.8333\n",
      "Epoch 58/100 - loss: 0.7066 - val_accuracy: 0.8333\n",
      "Epoch 59/100 - loss: 0.7979 - val_accuracy: 0.8333\n",
      "Epoch 60/100 - loss: 0.5893 - val_accuracy: 0.8333\n",
      "Epoch 61/100 - loss: 0.6809 - val_accuracy: 0.8333\n",
      "Epoch 62/100 - loss: 0.8409 - val_accuracy: 0.8333\n",
      "Epoch 63/100 - loss: 0.8870 - val_accuracy: 0.8333\n",
      "Epoch 64/100 - loss: 0.7955 - val_accuracy: 0.8333\n",
      "Epoch 65/100 - loss: 0.5312 - val_accuracy: 0.8333\n",
      "Epoch 66/100 - loss: 0.6544 - val_accuracy: 0.8333\n",
      "Epoch 67/100 - loss: 0.6395 - val_accuracy: 0.8333\n",
      "Epoch 68/100 - loss: 0.4915 - val_accuracy: 0.8333\n",
      "Epoch 69/100 - loss: 0.7072 - val_accuracy: 0.8333\n",
      "Epoch 70/100 - loss: 0.6717 - val_accuracy: 0.8333\n",
      "Epoch 71/100 - loss: 0.7840 - val_accuracy: 0.8333\n",
      "Epoch 72/100 - loss: 0.6726 - val_accuracy: 0.8333\n",
      "Epoch 73/100 - loss: 0.6247 - val_accuracy: 0.8333\n",
      "Epoch 74/100 - loss: 0.4007 - val_accuracy: 0.8333\n",
      "Epoch 75/100 - loss: 0.7984 - val_accuracy: 0.8333\n",
      "Epoch 76/100 - loss: 0.7331 - val_accuracy: 0.8333\n",
      "Epoch 77/100 - loss: 0.6307 - val_accuracy: 0.8333\n",
      "Epoch 78/100 - loss: 0.4829 - val_accuracy: 0.8333\n",
      "Epoch 79/100 - loss: 0.5465 - val_accuracy: 0.8333\n",
      "Epoch 80/100 - loss: 0.4223 - val_accuracy: 0.8333\n",
      "Epoch 81/100 - loss: 0.6288 - val_accuracy: 0.8333\n",
      "Epoch 82/100 - loss: 0.3993 - val_accuracy: 0.8333\n",
      "Epoch 83/100 - loss: 0.3759 - val_accuracy: 0.8333\n",
      "Epoch 84/100 - loss: 0.7292 - val_accuracy: 0.8333\n",
      "Epoch 85/100 - loss: 0.4943 - val_accuracy: 0.8333\n",
      "Epoch 86/100 - loss: 0.6708 - val_accuracy: 0.8333\n",
      "Epoch 87/100 - loss: 0.5903 - val_accuracy: 0.8333\n",
      "Epoch 88/100 - loss: 0.5845 - val_accuracy: 0.8333\n",
      "Epoch 89/100 - loss: 0.4077 - val_accuracy: 0.8333\n",
      "Epoch 90/100 - loss: 0.6042 - val_accuracy: 0.8333\n",
      "Epoch 91/100 - loss: 0.5188 - val_accuracy: 0.8333\n",
      "Epoch 92/100 - loss: 0.4007 - val_accuracy: 0.8333\n",
      "Epoch 93/100 - loss: 0.4599 - val_accuracy: 0.8333\n",
      "Epoch 94/100 - loss: 0.5474 - val_accuracy: 0.8333\n",
      "Epoch 95/100 - loss: 0.5226 - val_accuracy: 0.8333\n",
      "Epoch 96/100 - loss: 0.4097 - val_accuracy: 0.8333\n",
      "Epoch 97/100 - loss: 0.5797 - val_accuracy: 0.8333\n",
      "Epoch 98/100 - loss: 0.5970 - val_accuracy: 0.8333\n",
      "Epoch 99/100 - loss: 0.5925 - val_accuracy: 0.8333\n",
      "Epoch 100/100 - loss: 0.4229 - val_accuracy: 0.8667\n"
     ]
    }
   ],
   "source": [
    "history = model.fit(X_train, y_train, epochs=100, batch_size=32, x_val=X_test, y_val=y_test)"
   ],
   "metadata": {
    "collapsed": false,
    "ExecuteTime": {
     "end_time": "2023-12-04T17:14:48.441258Z",
     "start_time": "2023-12-04T17:14:48.401925Z"
    }
   },
   "id": "d22d9d73bd89e7fb"
  },
  {
   "cell_type": "code",
   "execution_count": 48,
   "outputs": [
    {
     "data": {
      "text/plain": "<Figure size 640x480 with 1 Axes>",
      "image/png": "[encoded data removed]"
     },
     "metadata": {},
     "output_type": "display_data"
    }
   ],
   "source": [
    "plt.plot(history['loss'], label='cross entropy loss')\n",
    "plt.plot(history['val_accuracy'], label='validation accuracy')\n",
    "plt.legend()\n",
    "plt.show()"
   ],
   "metadata": {
    "collapsed": false,
    "ExecuteTime": {
     "end_time": "2023-12-04T17:15:18.272847Z",
     "start_time": "2023-12-04T17:15:18.222875Z"
    }
   },
   "id": "18da4456a0c63ffc"
  }
 ],
 "metadata": {
  "kernelspec": {
   "display_name": "Python 3",
   "language": "python",
   "name": "python3"
  },
  "language_info": {
   "codemirror_mode": {
    "name": "ipython",
    "version": 2
   },
   "file_extension": ".py",
   "mimetype": "text/x-python",
   "name": "python",
   "nbconvert_exporter": "python",
   "pygments_lexer": "ipython2",
   "version": "2.7.6"
  }
 },
 "nbformat": 4,
 "nbformat_minor": 5
}
